{
 "cells": [
  {
   "cell_type": "markdown",
   "metadata": {},
   "source": [
    "---------------------------------------"
   ]
  },
  {
   "cell_type": "markdown",
   "metadata": {},
   "source": [
    "# $SPA$tial $G$rap$H$s: n$ET$works, $T$opology, & $I$nference\n",
    "\n",
    "## Tutorial for `pysal.spaghetti`: Working with point patterns: empirical observations\n",
    "#### James D. Gaboardi [<jgaboardi@fsu.edu>]"
   ]
  },
  {
   "cell_type": "markdown",
   "metadata": {},
   "source": [
    "1. Instantiating a `pysal.spaghetti.Network`\n",
    "2. Allocating observations to a network\n",
    "    * snapping\n",
    "3. Visualizing original and snapped locations\n",
    "    * visualization with `geopandas` and `matplotlib`"
   ]
  },
  {
   "cell_type": "code",
   "execution_count": null,
   "metadata": {
    "ExecuteTime": {
     "end_time": "2018-11-20T15:45:51.906578Z",
     "start_time": "2018-11-20T15:45:51.882413Z"
    }
   },
   "outputs": [],
   "source": [
    "import os\n",
    "last_modified = None\n",
    "if os.name == \"posix\":\n",
    "    last_modified = !stat -f\\\n",
    "                    \"# This notebook was last updated: %Sm\"\\\n",
    "                     Spaghetti_Pointpatterns_Empirical.ipynb\n",
    "elif os.name == \"nt\":\n",
    "    last_modified = !for %a in (Spaghetti_Pointpatterns_Empirical.ipynb)\\\n",
    "                    do echo # This notebook was last updated: %~ta\n",
    "    \n",
    "if last_modified:\n",
    "    get_ipython().set_next_input(last_modified[-1])"
   ]
  },
  {
   "cell_type": "code",
   "execution_count": null,
   "metadata": {},
   "outputs": [],
   "source": [
    "# This notebook was last updated: Nov 20 10:45:32 2018"
   ]
  },
  {
   "cell_type": "markdown",
   "metadata": {},
   "source": [
    "-----------------"
   ]
  },
  {
   "cell_type": "code",
   "execution_count": null,
   "metadata": {
    "ExecuteTime": {
     "end_time": "2018-11-20T15:45:54.700807Z",
     "start_time": "2018-11-20T15:45:51.929473Z"
    }
   },
   "outputs": [],
   "source": [
    "import spaghetti as spgh\n",
    "from libpysal import examples\n",
    "import geopandas as gpd\n",
    "import matplotlib.pyplot as plt\n",
    "import matplotlib.lines as mlines\n",
    "from shapely.geometry import Point, LineString\n",
    "\n",
    "%matplotlib inline\n",
    "\n",
    "__author__ = \"James Gaboardi <jgaboardi@gmail.com>\""
   ]
  },
  {
   "cell_type": "markdown",
   "metadata": {},
   "source": [
    "# 1. Instantiating a `pysal.spaghetti.Network`\n",
    "### Instantiate the network from `.shp` file"
   ]
  },
  {
   "cell_type": "code",
   "execution_count": null,
   "metadata": {
    "ExecuteTime": {
     "end_time": "2018-11-20T15:45:54.824041Z",
     "start_time": "2018-11-20T15:45:54.706052Z"
    }
   },
   "outputs": [],
   "source": [
    "ntw = spgh.Network(in_data=examples.get_path('streets.shp'))"
   ]
  },
  {
   "cell_type": "markdown",
   "metadata": {},
   "source": [
    "# 2. Allocating observations to a network\n",
    "### Snap point patterns to the network"
   ]
  },
  {
   "cell_type": "code",
   "execution_count": null,
   "metadata": {
    "ExecuteTime": {
     "end_time": "2018-11-20T15:45:55.250361Z",
     "start_time": "2018-11-20T15:45:54.826607Z"
    }
   },
   "outputs": [],
   "source": [
    "# Crimes with attributes\n",
    "ntw.snapobservations(examples.get_path('crimes.shp'),\n",
    "                     'crimes', attribute=True)\n",
    "# Schools without attributes\n",
    "ntw.snapobservations(examples.get_path('schools.shp'),\n",
    "                     'schools', attribute=False)"
   ]
  },
  {
   "cell_type": "markdown",
   "metadata": {},
   "source": [
    "### A network is composed of a single topological representation of a road and $n$ point patterns which are snapped to the network."
   ]
  },
  {
   "cell_type": "code",
   "execution_count": null,
   "metadata": {
    "ExecuteTime": {
     "end_time": "2018-11-20T15:45:55.263119Z",
     "start_time": "2018-11-20T15:45:55.253657Z"
    }
   },
   "outputs": [],
   "source": [
    "ntw.pointpatterns"
   ]
  },
  {
   "cell_type": "code",
   "execution_count": null,
   "metadata": {
    "ExecuteTime": {
     "end_time": "2018-11-20T15:45:55.284380Z",
     "start_time": "2018-11-20T15:45:55.268387Z"
    }
   },
   "outputs": [],
   "source": [
    "dir(ntw.pointpatterns['crimes'])"
   ]
  },
  {
   "cell_type": "markdown",
   "metadata": {},
   "source": [
    "### Attributes for every point pattern"
   ]
  },
  {
   "cell_type": "markdown",
   "metadata": {},
   "source": [
    "1. `dist_to_node` dict keyed by pointID with the value being a dict in the form \n",
    "        {node: distance to node, node: distance to node}\n",
    "2. `obs_to_edge` dict keyed by edgeID (tuple) with the value being a dict in the form \n",
    "        {pointID:(x-coord, y-coord), pointID:(x-coord, y-coord), ... }\n",
    "3. `obs_to_node` dict keyed by nodeID with the value being a list of pointIDs\n",
    "        {nodeID:[pointID]}\n",
    "4. `points` geojson like representation of the point pattern.  Includes properties if read with attributes=True.\n",
    "        {pointID: {'coordinates': (x-coord, y-coord), 'properties': [[attributes, attributes,...]]}\n",
    "5. `snapped_coordinates` dict keyed by pointID with the value being (x-coord, y-coord)\n",
    "        {pointID: (x-coord, y-coord)}"
   ]
  },
  {
   "cell_type": "markdown",
   "metadata": {
    "collapsed": true
   },
   "source": [
    "# 3. Visualizing original and snapped locations"
   ]
  },
  {
   "cell_type": "markdown",
   "metadata": {},
   "source": [
    "## School locations"
   ]
  },
  {
   "cell_type": "code",
   "execution_count": null,
   "metadata": {
    "ExecuteTime": {
     "end_time": "2018-11-20T15:45:55.299283Z",
     "start_time": "2018-11-20T15:45:55.288090Z"
    }
   },
   "outputs": [],
   "source": [
    "school_points = ntw.pointpatterns['schools'].points\n",
    "print(type(school_points))\n",
    "print(school_points[0])"
   ]
  },
  {
   "cell_type": "markdown",
   "metadata": {},
   "source": [
    "### **  The original coordinates of the schools need to be extracted from `school_points`"
   ]
  },
  {
   "cell_type": "code",
   "execution_count": null,
   "metadata": {
    "ExecuteTime": {
     "end_time": "2018-11-20T15:45:55.319089Z",
     "start_time": "2018-11-20T15:45:55.302202Z"
    }
   },
   "outputs": [],
   "source": [
    "schools = range(len(school_points))\n",
    "school_coords = {school:school_points[school][\"coordinates\"]\\\n",
    "                                       for school in schools}\n",
    "print(type(school_coords))\n",
    "print(school_coords[0])"
   ]
  },
  {
   "cell_type": "markdown",
   "metadata": {},
   "source": [
    "## Snapped school locations"
   ]
  },
  {
   "cell_type": "code",
   "execution_count": null,
   "metadata": {
    "ExecuteTime": {
     "end_time": "2018-11-20T15:45:55.338260Z",
     "start_time": "2018-11-20T15:45:55.323160Z"
    }
   },
   "outputs": [],
   "source": [
    "snapped_school_coords = ntw.pointpatterns['schools'].snapped_coordinates\n",
    "print(type(snapped_school_coords))\n",
    "print(snapped_school_coords[0])"
   ]
  },
  {
   "cell_type": "markdown",
   "metadata": {},
   "source": [
    "## Crime locations"
   ]
  },
  {
   "cell_type": "code",
   "execution_count": null,
   "metadata": {
    "ExecuteTime": {
     "end_time": "2018-11-20T15:45:55.354143Z",
     "start_time": "2018-11-20T15:45:55.346801Z"
    }
   },
   "outputs": [],
   "source": [
    "crime_points = ntw.pointpatterns['crimes'].points\n",
    "print(type(crime_points))\n",
    "print(crime_points[0])"
   ]
  },
  {
   "cell_type": "markdown",
   "metadata": {},
   "source": [
    "### **  The original coordinates of the crimes need to be extracted from `crime_points`"
   ]
  },
  {
   "cell_type": "code",
   "execution_count": null,
   "metadata": {
    "ExecuteTime": {
     "end_time": "2018-11-20T15:45:55.372383Z",
     "start_time": "2018-11-20T15:45:55.359241Z"
    }
   },
   "outputs": [],
   "source": [
    "crimes = range(len(crime_points))\n",
    "crime_coords = {crime:crime_points[crime][\"coordinates\"] for crime in crimes}\n",
    "print(type(crime_coords))\n",
    "print(crime_coords[0])"
   ]
  },
  {
   "cell_type": "markdown",
   "metadata": {},
   "source": [
    "## Snapped crime locations"
   ]
  },
  {
   "cell_type": "code",
   "execution_count": null,
   "metadata": {
    "ExecuteTime": {
     "end_time": "2018-11-20T15:45:55.389032Z",
     "start_time": "2018-11-20T15:45:55.375191Z"
    }
   },
   "outputs": [],
   "source": [
    "snapped_crime_coords = ntw.pointpatterns['crimes'].snapped_coordinates\n",
    "print(type(snapped_crime_coords))\n",
    "print(snapped_crime_coords[0])"
   ]
  },
  {
   "cell_type": "markdown",
   "metadata": {},
   "source": [
    "## Create `geopandas.GeoDataFrame` objects of the nodes and edges"
   ]
  },
  {
   "cell_type": "code",
   "execution_count": null,
   "metadata": {
    "ExecuteTime": {
     "end_time": "2018-11-20T15:45:55.421425Z",
     "start_time": "2018-11-20T15:45:55.392344Z"
    }
   },
   "outputs": [],
   "source": [
    "def get_nodes_edges(nodes_dict, edges_dict=None, idx='id', geo='geometry'):\n",
    "    \"\"\"return GeoDataFrame of nodes and edges\n",
    "    \"\"\"\n",
    "    # nodes\n",
    "    nodes = gpd.GeoDataFrame(list(nodes_dict.items()), columns=[idx, geo])\n",
    "    nodes.geometry = nodes.geometry.apply(lambda p: Point(p))\n",
    "    if not edges_dict:\n",
    "        return nodes\n",
    "    \n",
    "    # edges\n",
    "    edges = {}\n",
    "    for (node1_id, node2_id) in edges_dict:\n",
    "        node1 = nodes.loc[(nodes[idx] == node1_id), geo].squeeze()\n",
    "        node2 = nodes.loc[(nodes[idx] == node2_id), geo].squeeze()\n",
    "        edges[(node1_id, node2_id)] = LineString((node1, node2))\n",
    "    edges = gpd.GeoDataFrame(list(edges.items()), columns=[idx, geo])\n",
    "    \n",
    "    return nodes, edges"
   ]
  },
  {
   "cell_type": "code",
   "execution_count": null,
   "metadata": {
    "ExecuteTime": {
     "end_time": "2018-11-20T15:45:55.874012Z",
     "start_time": "2018-11-20T15:45:55.424216Z"
    }
   },
   "outputs": [],
   "source": [
    "# network nodes and edges\n",
    "nodes_df, edges_df = get_nodes_edges(ntw.node_coords, edges_dict=ntw.edges)"
   ]
  },
  {
   "cell_type": "code",
   "execution_count": null,
   "metadata": {
    "ExecuteTime": {
     "end_time": "2018-11-20T15:45:55.884756Z",
     "start_time": "2018-11-20T15:45:55.875780Z"
    }
   },
   "outputs": [],
   "source": [
    "# schools and snapped schools\n",
    "schools_df = get_nodes_edges(school_coords)\n",
    "snapped_schools_df = get_nodes_edges(snapped_school_coords)"
   ]
  },
  {
   "cell_type": "code",
   "execution_count": null,
   "metadata": {
    "ExecuteTime": {
     "end_time": "2018-11-20T15:45:55.911398Z",
     "start_time": "2018-11-20T15:45:55.887969Z"
    }
   },
   "outputs": [],
   "source": [
    "# crimes and snapped crimes\n",
    "crimes_df = get_nodes_edges(crime_coords)\n",
    "snapped_crimes_df = get_nodes_edges(snapped_crime_coords)"
   ]
  },
  {
   "cell_type": "markdown",
   "metadata": {},
   "source": [
    "## Plotting `geopandas.GeoDataFrame` objects"
   ]
  },
  {
   "cell_type": "code",
   "execution_count": null,
   "metadata": {
    "ExecuteTime": {
     "end_time": "2018-11-20T15:45:55.940362Z",
     "start_time": "2018-11-20T15:45:55.914047Z"
    }
   },
   "outputs": [],
   "source": [
    "# legend patches\n",
    "strs = mlines.Line2D([], [], color='k', label='Network Segments', alpha=.5)\n",
    "ndes = mlines.Line2D([], [], color='k', linewidth=0, markersize=2.5,\n",
    "                     marker='o', label='Network Nodes', alpha=1)\n",
    "schl = mlines.Line2D([], [], color='k', linewidth=0, markersize=25,\n",
    "                     marker='X', label='School Locations', alpha=1)\n",
    "snp_schl = mlines.Line2D([], [], color='k', linewidth=0, markersize=12,\n",
    "                         marker='o', label='Snapped Schools', alpha=1)\n",
    "crme = mlines.Line2D([], [], color='r', linewidth=0, markersize=7,\n",
    "                     marker='x', label='Crime Locations', alpha=.75)\n",
    "snp_crme = mlines.Line2D([], [], color='r', linewidth=0, markersize=3,\n",
    "                         marker='o', label='Snapped Crimes', alpha=.75)\n",
    "\n",
    "patches = [strs, ndes, schl, snp_schl, crme, snp_crme]"
   ]
  },
  {
   "cell_type": "code",
   "execution_count": null,
   "metadata": {
    "ExecuteTime": {
     "end_time": "2018-11-20T15:45:56.849504Z",
     "start_time": "2018-11-20T15:45:55.942344Z"
    }
   },
   "outputs": [],
   "source": [
    "# plot figure\n",
    "base = edges_df.plot(color='k', alpha=.25, figsize=(12,12), zorder=0)\n",
    "nodes_df.plot(ax=base, color='k', markersize=5, alpha=1)\n",
    "\n",
    "crimes_df.plot(ax=base, color='r', marker='x',\n",
    "               markersize=50, alpha=.5, zorder=1)\n",
    "snapped_crimes_df.plot(ax=base, color='r',\n",
    "                       markersize=20, alpha=.5, zorder=1)\n",
    "\n",
    "schools_df.plot(ax=base, cmap='tab20', column='id', marker='X',\n",
    "                markersize=500, alpha=.5, zorder=2)\n",
    "snapped_schools_df.plot(ax=base,cmap='tab20', column='id',\n",
    "                        markersize=200, alpha=.5, zorder=2)\n",
    "\n",
    "# add legend\n",
    "plt.legend(handles=patches, fancybox=True, framealpha=0.8,\n",
    "           scatterpoints=1, fontsize=\"xx-large\", bbox_to_anchor=(1.04, .6))"
   ]
  },
  {
   "cell_type": "markdown",
   "metadata": {},
   "source": [
    "-----------"
   ]
  }
 ],
 "metadata": {
  "anaconda-cloud": {},
  "gist": {
   "data": {
    "description": "notebooks/Spaghetti_Pointpatterns_Empirical.ipynb",
    "public": false
   },
   "id": ""
  },
  "kernelspec": {
   "display_name": "Python [conda env:py3_spgh_dev]",
   "language": "python",
   "name": "conda-env-py3_spgh_dev-py"
  },
  "language_info": {
   "codemirror_mode": {
    "name": "ipython",
    "version": 3
   },
   "file_extension": ".py",
   "mimetype": "text/x-python",
   "name": "python",
   "nbconvert_exporter": "python",
   "pygments_lexer": "ipython3",
   "version": "3.6.6"
  }
 },
 "nbformat": 4,
 "nbformat_minor": 1
}
